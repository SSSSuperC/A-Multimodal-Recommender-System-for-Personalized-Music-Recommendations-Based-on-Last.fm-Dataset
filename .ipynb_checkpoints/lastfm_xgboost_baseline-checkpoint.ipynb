{
 "cells": [
  {
   "cell_type": "markdown",
   "id": "44558caf-6169-4664-ba8c-ffe5dc5ff205",
   "metadata": {},
   "source": [
    "依赖部分"
   ]
  },
  {
   "cell_type": "code",
   "execution_count": null,
   "id": "74c18986-e84f-45fe-8c12-682f8b7735b1",
   "metadata": {},
   "outputs": [],
   "source": [
    "\n",
    "# Baseline implementation for Last.fm dataset using XGBoost\n",
    "\n",
    "import pandas as pd\n",
    "import numpy as np\n",
    "import xgboost as xgb\n",
    "from sklearn.model_selection import train_test_split\n",
    "from sklearn.metrics import mean_squared_error\n",
    "from sklearn.feature_extraction.text import TfidfVectorizer"
   ]
  },
  {
   "cell_type": "markdown",
   "id": "48f869cd-9736-48be-9364-da61603f17c0",
   "metadata": {},
   "source": [
    "数据读取"
   ]
  },
  {
   "cell_type": "code",
   "execution_count": null,
   "id": "8b0d9d37-1e85-44b1-b6a0-875065046122",
   "metadata": {},
   "outputs": [],
   "source": [
    "# Load the dataset\n",
    "# Replace these paths with actual dataset paths\n",
    "user_artists_path = \"user_artists.dat\"\n",
    "tags_path = \"tags.dat\"\n",
    "\n",
    "# Load user-artists data\n",
    "user_artists = pd.read_csv(user_artists_path, sep='\\t')\n",
    "user_artists.columns = ['userID', 'artistID', 'weight']\n",
    "\n",
    "# Load tags data\n",
    "tags = pd.read_csv(tags_path, sep='\\t')\n",
    "tags.columns = ['tagID', 'tagValue']"
   ]
  },
  {
   "cell_type": "markdown",
   "id": "44298a43-e41c-4048-8a49-fbf3e47defd6",
   "metadata": {},
   "source": [
    "数据预处理"
   ]
  },
  {
   "cell_type": "code",
   "execution_count": null,
   "id": "9e0d2f0d-8ff2-4136-bcb5-fe5306751554",
   "metadata": {},
   "outputs": [],
   "source": [
    "# Preprocess tags with TF-IDF\n",
    "vectorizer = TfidfVectorizer(max_features=50)  # Limiting features for simplicity\n",
    "tag_features = vectorizer.fit_transform(tags['tagValue']).toarray()\n",
    "tag_features_df = pd.DataFrame(tag_features, columns=[f\"tag_{i}\" for i in range(tag_features.shape[1])])\n",
    "\n",
    "# Merge datasets for basic features\n",
    "data = user_artists.merge(tag_features_df, left_on='artistID', right_index=True, how='inner')"
   ]
  },
  {
   "cell_type": "markdown",
   "id": "bca2f772-b58a-4a71-bd25-ae5f5c4f713d",
   "metadata": {},
   "source": [
    "模型设计"
   ]
  },
  {
   "cell_type": "code",
   "execution_count": null,
   "id": "746dddca-cc29-4e13-9b5c-7fbe560c907f",
   "metadata": {},
   "outputs": [],
   "source": [
    "# Train an XGBoost model\n",
    "model = xgb.XGBRegressor(\n",
    "    objective='reg:squarederror', \n",
    "    n_estimators=100, \n",
    "    learning_rate=0.1, \n",
    "    max_depth=6, \n",
    "    random_state=42\n",
    ")\n",
    "model.fit(X_train, y_train)"
   ]
  },
  {
   "cell_type": "markdown",
   "id": "ae550035-289e-43cd-b43e-4f19533bde67",
   "metadata": {},
   "source": [
    "训练"
   ]
  },
  {
   "cell_type": "code",
   "execution_count": null,
   "id": "332293c0",
   "metadata": {},
   "outputs": [],
   "source": [
    "# Prepare feature matrix (X) and target vector (y)\n",
    "X = data.drop(['userID', 'artistID', 'weight'], axis=1).values\n",
    "y = data['weight'].values\n",
    "\n",
    "# Split data into training and testing sets\n",
    "X_train, X_test, y_train, y_test = train_test_split(X, y, test_size=0.2, random_state=42)\n"
   ]
  },
  {
   "cell_type": "markdown",
   "id": "a06e3c7d-bf3b-4e02-9261-092f3bbac13a",
   "metadata": {},
   "source": [
    "测试与输出"
   ]
  },
  {
   "cell_type": "code",
   "execution_count": null,
   "id": "7bceab95-54cc-4193-9b53-657cbabdebe0",
   "metadata": {},
   "outputs": [],
   "source": [
    "# Make predictions\n",
    "y_pred = model.predict(X_test)\n",
    "\n",
    "# Evaluate the model\n",
    "mse = mean_squared_error(y_test, y_pred)\n",
    "print(f\"Mean Squared Error: {mse:.4f}\")\n",
    "\n",
    "# Feature importance\n",
    "feature_importances = model.feature_importances_\n",
    "print(\"Feature Importances:\", feature_importances)"
   ]
  }
 ],
 "metadata": {
  "kernelspec": {
   "display_name": "Python (System)",
   "language": "python",
   "name": "my_system_python"
  },
  "language_info": {
   "codemirror_mode": {
    "name": "ipython",
    "version": 3
   },
   "file_extension": ".py",
   "mimetype": "text/x-python",
   "name": "python",
   "nbconvert_exporter": "python",
   "pygments_lexer": "ipython3",
   "version": "3.10.0"
  }
 },
 "nbformat": 4,
 "nbformat_minor": 5
}
